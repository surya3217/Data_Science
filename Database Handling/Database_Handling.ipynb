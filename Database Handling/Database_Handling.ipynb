{
 "cells": [
  {
   "cell_type": "code",
   "execution_count": null,
   "metadata": {},
   "outputs": [],
   "source": [
    "\"\"\"\n",
    "Database Handling\n",
    "1.sqlite \n",
    "2.mysql \n",
    "3.mysql online \n",
    "4.mongodb\n",
    "5.mongo atlas\n",
    "\"\"\""
   ]
  },
  {
   "cell_type": "markdown",
   "metadata": {},
   "source": [
    "### Database handling using sqlite"
   ]
  },
  {
   "cell_type": "code",
   "execution_count": 17,
   "metadata": {},
   "outputs": [
    {
     "data": {
      "text/plain": [
       "<sqlite3.Cursor at 0x20552631880>"
      ]
     },
     "execution_count": 17,
     "metadata": {},
     "output_type": "execute_result"
    }
   ],
   "source": [
    "\n",
    "import sqlite3\n",
    "from pandas import DataFrame\n",
    "\n",
    "# File based database ( connects if exists or creates a new one if it does not exists ) \n",
    "conn = sqlite3.connect ( 'employee.db' )\n",
    "\n",
    "# creating cursor\n",
    "c = conn.cursor()\n",
    "\n",
    "#Delete the table\n",
    "c.execute(\"DROP TABLE employees\")  ## sql quary in the bracket\n",
    "conn.commit()\n",
    "\n",
    "# STEP 1\n",
    "# www.sqlite.org/datatype3.html\n",
    "c.execute (\"\"\"CREATE TABLE employees(\n",
    "          id INTEGER,\n",
    "          first TEXT,\n",
    "          last TEXT, \n",
    "          pay INTEGER\n",
    "          )\"\"\"\n",
    "          )\n",
    "conn.commit()\n",
    "\n",
    "# STEP 2\n",
    "c.execute(\"INSERT INTO employees VALUES (01,'Sylvester', 'Fernandes', 50000)\")\n",
    "c.execute(\"INSERT INTO employees VALUES (02,'Yogendra', 'Singh', 70000)\")\n",
    "c.execute(\"INSERT INTO employees VALUES (03,'Rohit', 'Mishra', 30000)\")\n",
    "c.execute(\"INSERT INTO employees VALUES (04,'Kunal', 'Vaid', 30000)\")\n",
    "c.execute(\"INSERT INTO employees VALUES (05,'Devendra', 'Shekhawat', 30000)\")\n",
    "\n",
    "conn.commit()     ## do commit only when we create and insert values in table\n",
    "\n",
    "\n",
    "# STEP 3\n",
    "c.execute(\"SELECT * FROM employees\")  ## only reading the data so no commit required\n"
   ]
  },
  {
   "cell_type": "code",
   "execution_count": 18,
   "metadata": {},
   "outputs": [
    {
     "name": "stdout",
     "output_type": "stream",
     "text": [
      "(1, 'Sylvester', 'Fernandes', 50000) \n",
      "\n",
      "[(2, 'Yogendra', 'Singh', 70000), (3, 'Rohit', 'Mishra', 30000)] \n",
      "\n",
      "[(4, 'Kunal', 'Vaid', 30000), (5, 'Devendra', 'Shekhawat', 30000)]\n"
     ]
    }
   ],
   "source": [
    "# STEP 4\n",
    "# returns one or otherwise None as a tuple\n",
    "print ( c.fetchone(),'\\n') \n",
    "\n",
    "# returns one or otherwise None as a tuple\n",
    "print ( c.fetchmany(2),'\\n') \n",
    "\n",
    "# returns a list of tuples\n",
    "print ( c.fetchall() )\n"
   ]
  },
  {
   "cell_type": "code",
   "execution_count": 19,
   "metadata": {},
   "outputs": [],
   "source": [
    "# Since now the cursor has read all the rows and we are at End\n",
    "# So again fetching the records from the database\n",
    "c.execute(\"SELECT * FROM employees\")\n",
    "\n",
    "# STEP 5\n",
    "df = DataFrame(c.fetchall(), columns = [\"id\",\"first\",\"last\",\"pay\"])  # putting the result into Dataframe\n",
    "df.to_csv(\"employee.csv\")\n",
    "\n",
    "# STEP 6\n",
    "# closing the connection \n",
    "conn.close()\n",
    "\n",
    "# database has closed so cannot fetch any data\n",
    "# print ( c.fetchone()) \n"
   ]
  },
  {
   "cell_type": "markdown",
   "metadata": {},
   "source": [
    "### Database handling using MySQL on Local Machine"
   ]
  },
  {
   "cell_type": "code",
   "execution_count": null,
   "metadata": {},
   "outputs": [],
   "source": [
    "\"\"\"\n",
    "old technique\n",
    "# use below command in anaconda prompt\n",
    "# conda install mysql-connector\n",
    "# pip install --upgrade pip \n",
    "# pip install -U setuptools\n",
    "# pip install -U wheel\n",
    "# pip install protobuf\n",
    "# pip install mysql-connector-python-rf\n",
    "# pip install argparse\n",
    "\"\"\"\n",
    "\n",
    "# use below command in anaconda prompt\n",
    "# pip install mysql-connector-python\n",
    "\n",
    "from pandas import DataFrame\n",
    "import mysql.connector\n",
    "\n",
    "\n",
    "# File based database ( connects if exists or creates a new one if it does not exists ) \n",
    "conn = mysql.connector.connect ( user='root', password='', host='localhost')\n",
    "# database = '' can be used if we want to connect to already defined database\n",
    "\n",
    "\n",
    "# creating cursor\n",
    "c = conn.cursor()\n",
    "\n",
    "# STEP 0 if exists\n",
    "c.execute(\"DROP DATABASE IF EXISTS employee;\")\n",
    "conn.commit()\n",
    "\n",
    "# STEP 1\n",
    "c.execute(\"CREATE DATABASE employee;\")\n",
    "conn.commit()\n",
    "\n",
    "# STEP 2\n",
    "c.execute(\"USE employee;\")\n",
    "conn.commit()\n",
    "\n",
    "# STEP 3\n",
    "c.execute (\"\"\"CREATE TABLE employees(\n",
    "          id INTEGER,\n",
    "          first  TEXT,\n",
    "          last TEXT,\n",
    "          pay INTEGER\n",
    "          )\"\"\")\n",
    "conn.commit()\n",
    "\n",
    "\n",
    "# STEP 4\n",
    "c.execute(\"INSERT INTO employees VALUES (01,'Sylvester', 'Fernandes', 50000)\")\n",
    "c.execute(\"INSERT INTO employees VALUES (02,'Yogendra', 'Singh', 70000)\")\n",
    "c.execute(\"INSERT INTO employees VALUES (03,'Rohit', 'Mishra', 30000)\")\n",
    "c.execute(\"INSERT INTO employees VALUES (04,'Kunal', 'Vaid', 30000)\")\n",
    "c.execute(\"INSERT INTO employees VALUES (05,'Devendra', 'Shekhawat', 30000)\")\n",
    "\n",
    "conn.commit()\n",
    "# c.execute(\"INSERT INTO employee VALUES ({},'{}', '{}', {})\".format(idd, first,last,pay))\n",
    "\n",
    "\n",
    "c.execute(\"SELECT * FROM employees\")\n",
    "\n",
    "# STEP 5\n",
    "# returns one or otherwise None as a tuple\n",
    "print ( c.fetchone()) \n",
    "\n",
    "# returns one or otherwise None as a tuple\n",
    "print ( c.fetchmany(2)) \n",
    "\n",
    "# returns a list of tuples\n",
    "print ( c.fetchall() )\n",
    "\n",
    "\n",
    "# Since now the cursor has read all the rows and we are at End\n",
    "# So again fetching the records from the database\n",
    "c.execute(\"SELECT * FROM employees\")\n",
    "\n",
    "\n",
    "# STEP 6\n",
    "df = DataFrame(c.fetchall())  # putting the result into Dataframe\n",
    "df.columns = [\"id\",\"first\",\"last\",\"pay\"]\n",
    "\n",
    "# field_names = [i[0] for i in c.description]\n",
    "# print field_names\n",
    "\n",
    "conn.close()\n"
   ]
  }
 ],
 "metadata": {
  "kernelspec": {
   "display_name": "Python 3",
   "language": "python",
   "name": "python3"
  },
  "language_info": {
   "codemirror_mode": {
    "name": "ipython",
    "version": 3
   },
   "file_extension": ".py",
   "mimetype": "text/x-python",
   "name": "python",
   "nbconvert_exporter": "python",
   "pygments_lexer": "ipython3",
   "version": "3.7.4"
  }
 },
 "nbformat": 4,
 "nbformat_minor": 2
}
