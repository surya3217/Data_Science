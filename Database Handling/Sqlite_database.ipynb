{
 "cells": [
  {
   "cell_type": "markdown",
   "metadata": {},
   "source": [
    "### Student Database"
   ]
  },
  {
   "cell_type": "code",
   "execution_count": 18,
   "metadata": {},
   "outputs": [
    {
     "name": "stdout",
     "output_type": "stream",
     "text": [
      "(1, 22, 'suraj', 20, 'CSE') \n",
      "\n",
      "[(2, 9, 'rajesh', 22, 'EE'), (3, 15, 'sandeep', 23, 'CE')] \n",
      "\n",
      "[(4, 25, 'yogendra', 25, 'CSE'), (5, 14, 'ravi', 23, 'CSE'), (6, 9, 'mohit', 21, 'CE'), (7, 9, 'kamesh', 20, 'CE'), (8, 5, 'dinesh', 25, 'ECE'), (9, 8, 'rishabh', 20, 'ME'), (10, 9, 'nimesh', 21, 'ME')]\n"
     ]
    }
   ],
   "source": [
    "\"\"\"\n",
    "Code Challenge 1\n",
    "Write a python code to insert records to a sqlite\n",
    "named db_University for 10 students with fields like \n",
    "Student_Name, Student_Age, Student_Roll_no, Student_Branch.\n",
    "\n",
    "\"\"\"\n",
    "\n",
    "import random\n",
    "import sqlite3\n",
    "from pandas import DataFrame\n",
    "\n",
    "## data of students\n",
    "branch= ['CSE','ECE','EE','ME','CE']\n",
    "St_Name= ['suraj','rajesh','sandeep','yogendra','ravi','mohit','kamesh','dinesh','rishabh','nimesh']\n",
    "St_Age= [ random.randint(20,25) for i in range(10) ]\n",
    "St_Roll_no= [ random.randint(5,25) for i in range(10)]\n",
    "St_Branch= [ random.choice(branch) for i in range(10)]\n",
    "\n",
    "# File based database ( connects if exists or creates a new one if it does not exists ) \n",
    "conn = sqlite3.connect ( 'db_University.db' )\n",
    "\n",
    "# creating cursor\n",
    "c = conn.cursor()\n",
    "\n",
    "if c.execute(\"SELECT * FROM student\"):\n",
    "    #Delete the table\n",
    "    c.execute(\"DROP TABLE student\")  ## sql quary in the bracket\n",
    "    conn.commit()\n",
    "    \n",
    "\n",
    "# STEP 1\n",
    "# www.sqlite.org/datatype3.html\n",
    "c.execute (\"\"\"CREATE TABLE student(\n",
    "          id INTEGER,\n",
    "          rollno INTEGER,\n",
    "          name TEXT, \n",
    "          age INTEGER,\n",
    "          branch TEXT\n",
    "          )\"\"\"\n",
    "          )\n",
    "conn.commit()\n",
    "\n",
    "\n",
    "# STEP 2\n",
    "for i in range(10):\n",
    "    query= \"INSERT INTO student VALUES ({},{},'{}',{},'{}')\".format(i+1, St_Roll_no[i], St_Name[i], St_Age[i], St_Branch[i]  ) \n",
    "    c.execute(query)\n",
    "\n",
    "conn.commit()   ## do commit only when we create and insert values in table\n",
    "\n",
    "\n",
    "# STEP 3\n",
    "c.execute(\"SELECT * FROM student\")  ## only reading the data so no commit required\n",
    "\n",
    "# STEP 4\n",
    "# returns one or otherwise None as a tuple\n",
    "print ( c.fetchone(),'\\n') \n",
    "\n",
    "# returns one or otherwise None as a tuple\n",
    "print ( c.fetchmany(2),'\\n') \n",
    "\n",
    "# returns a list of tuples\n",
    "print ( c.fetchall() )\n",
    "\n",
    "\n",
    "# Since now the cursor has read all the rows and we are at End\n",
    "# So again fetching the records from the database\n",
    "c.execute(\"SELECT * FROM student\")\n",
    "\n",
    "\n",
    "# STEP 5\n",
    "df = DataFrame(c.fetchall(), columns = [\"id\",\"Roll No\",\"Name\",\"Age\",\"Branch\"])  # putting the result into Dataframe\n",
    "#df.to_csv(\"student_details.csv\")\n",
    "\n",
    "\n",
    "# STEP 6\n",
    "# closing the connection \n",
    "conn.close()\n",
    "\n",
    "#print ( c.fetchone())   cannot access after closing the conection\n"
   ]
  },
  {
   "cell_type": "markdown",
   "metadata": {},
   "source": []
  }
 ],
 "metadata": {
  "kernelspec": {
   "display_name": "Python 3",
   "language": "python",
   "name": "python3"
  },
  "language_info": {
   "codemirror_mode": {
    "name": "ipython",
    "version": 3
   },
   "file_extension": ".py",
   "mimetype": "text/x-python",
   "name": "python",
   "nbconvert_exporter": "python",
   "pygments_lexer": "ipython3",
   "version": "3.7.4"
  }
 },
 "nbformat": 4,
 "nbformat_minor": 2
}
