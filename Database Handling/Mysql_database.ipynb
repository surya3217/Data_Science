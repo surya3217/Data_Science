{
 "cells": [
  {
   "cell_type": "markdown",
   "metadata": {},
   "source": [
    "### MySQL on Local Machine"
   ]
  },
  {
   "cell_type": "code",
   "execution_count": 19,
   "metadata": {},
   "outputs": [],
   "source": [
    "\"\"\"\n",
    "Code Challenge 1\n",
    "Write a python code to insert records to a mysql\n",
    "named db_University for 10 students with fields like \n",
    "Student_Name, Student_Age, Student_Roll_no, Student_Branch.\n",
    "\n",
    "\"\"\"\n",
    "\n",
    "from pandas import DataFrame\n",
    "import mysql.connector\n",
    "\n",
    "## data of students\n",
    "branch= ['CSE','ECE','EE','ME','CE']\n",
    "St_Name= ['suraj','rajesh','sandeep','yogendra','ravi','mohit','kamesh','dinesh','rishabh','nimesh']\n",
    "St_Age= [25, 21, 22, 20, 21, 22, 20, 20, 22, 23]\n",
    "St_Roll_no= [11, 22, 12, 21, 24, 6, 6, 25, 16, 22]\n",
    "St_Branch= ['CSE', 'CE', 'ME', 'CSE', 'ME', 'ECE', 'EE', 'CSE', 'CE', 'CSE']\n",
    "\n",
    "# File based database ( connects if exists or creates a new one if it does not exists ) \n",
    "conn = mysql.connector.connect ( host='localhost', user='root', passwd='surya321' )\n",
    "# database = '' can be used if we want to connect to already defined database\n",
    "\n",
    "# creating cursor\n",
    "c = conn.cursor()\n"
   ]
  },
  {
   "cell_type": "code",
   "execution_count": 20,
   "metadata": {},
   "outputs": [
    {
     "name": "stdout",
     "output_type": "stream",
     "text": [
      "('db_university',)\n",
      "('employee',)\n",
      "('information_schema',)\n",
      "('mysql',)\n",
      "('performance_schema',)\n",
      "('sakila',)\n",
      "('sys',)\n",
      "('world',)\n"
     ]
    }
   ],
   "source": [
    "c.execute(\"show databases\")  # command to show all databases\n",
    "for i in c:\n",
    "    print(i)"
   ]
  },
  {
   "cell_type": "code",
   "execution_count": 21,
   "metadata": {},
   "outputs": [],
   "source": [
    "## STEP 0 if exists\n",
    "c.execute(\"DROP DATABASE IF EXISTS db_University;\")\n",
    "conn.commit()\n"
   ]
  },
  {
   "cell_type": "code",
   "execution_count": 22,
   "metadata": {},
   "outputs": [
    {
     "name": "stdout",
     "output_type": "stream",
     "text": [
      "('employee',)\n",
      "('information_schema',)\n",
      "('mysql',)\n",
      "('performance_schema',)\n",
      "('sakila',)\n",
      "('sys',)\n",
      "('world',)\n"
     ]
    }
   ],
   "source": [
    "c.execute(\"show databases\")\n",
    "for i in c:\n",
    "    print(i)"
   ]
  },
  {
   "cell_type": "code",
   "execution_count": 23,
   "metadata": {},
   "outputs": [],
   "source": [
    "\n",
    "# STEP 1\n",
    "c.execute(\"CREATE DATABASE db_University;\")\n",
    "conn.commit()\n",
    "\n",
    "# STEP 2\n",
    "c.execute(\"USE db_University;\")\n",
    "conn.commit()\n",
    "\n",
    "# STEP 3\n",
    "c.execute (\"\"\"CREATE TABLE student(\n",
    "          id INTEGER,\n",
    "          rollno INTEGER,\n",
    "          name TEXT, \n",
    "          age INTEGER,\n",
    "          branch TEXT\n",
    "          )\"\"\"\n",
    "          )\n",
    "conn.commit()\n",
    "\n",
    "\n",
    "# STEP 4\n",
    "# c.execute(\"INSERT INTO student VALUES ({},'{}', '{}', {})\".format(idd, first,last,pay))\n",
    "\n",
    "for i in range(10):\n",
    "    query= \"INSERT INTO student VALUES ({},{},'{}',{},'{}')\".format(i+1, St_Roll_no[i], St_Name[i], St_Age[i], St_Branch[i]  ) \n",
    "    c.execute(query)\n",
    "\n",
    "conn.commit()    ## do commit only when we create and insert values in table\n"
   ]
  },
  {
   "cell_type": "code",
   "execution_count": 24,
   "metadata": {},
   "outputs": [
    {
     "name": "stdout",
     "output_type": "stream",
     "text": [
      "(1, 11, 'suraj', 25, 'CSE') \n",
      "\n",
      "[(2, 22, 'rajesh', 21, 'CE'), (3, 12, 'sandeep', 22, 'ME'), (4, 21, 'yogendra', 20, 'CSE'), (5, 24, 'ravi', 21, 'ME'), (6, 6, 'mohit', 22, 'ECE'), (7, 6, 'kamesh', 20, 'EE'), (8, 25, 'dinesh', 20, 'CSE'), (9, 16, 'rishabh', 22, 'CE'), (10, 22, 'nimesh', 23, 'CSE')]\n",
      "   id  Roll No      Name  Age Branch\n",
      "0   1       11     suraj   25    CSE\n",
      "1   2       22    rajesh   21     CE\n",
      "2   3       12   sandeep   22     ME\n",
      "3   4       21  yogendra   20    CSE\n",
      "4   5       24      ravi   21     ME\n",
      "5   6        6     mohit   22    ECE\n",
      "6   7        6    kamesh   20     EE\n",
      "7   8       25    dinesh   20    CSE\n",
      "8   9       16   rishabh   22     CE\n",
      "9  10       22    nimesh   23    CSE\n"
     ]
    }
   ],
   "source": [
    "\n",
    "c.execute(\"SELECT * FROM student;\")\n",
    "\n",
    "# STEP 5\n",
    "# returns one or otherwise None as a tuple\n",
    "print ( c.fetchone(),'\\n') \n",
    "\n",
    "# returns a list of tuples\n",
    "print ( c.fetchall() )\n",
    "\n",
    "# Since now the cursor has read all the rows and we are at End\n",
    "# So again fetching the records from the database\n",
    "c.execute(\"SELECT * FROM student;\")\n",
    "\n",
    "\n",
    "# STEP 6\n",
    "df = DataFrame(c.fetchall(), columns = [\"id\",\"Roll No\",\"Name\",\"Age\",\"Branch\"])  # putting the result into Dataframe\n",
    "print(df)\n",
    "# field_names = [i[0] for i in c.description]\n",
    "# print field_names\n",
    "\n",
    "conn.close()\n"
   ]
  },
  {
   "cell_type": "code",
   "execution_count": null,
   "metadata": {},
   "outputs": [],
   "source": []
  }
 ],
 "metadata": {
  "kernelspec": {
   "display_name": "Python 3",
   "language": "python",
   "name": "python3"
  },
  "language_info": {
   "codemirror_mode": {
    "name": "ipython",
    "version": 3
   },
   "file_extension": ".py",
   "mimetype": "text/x-python",
   "name": "python",
   "nbconvert_exporter": "python",
   "pygments_lexer": "ipython3",
   "version": "3.7.4"
  }
 },
 "nbformat": 4,
 "nbformat_minor": 2
}
