{
 "cells": [
  {
   "cell_type": "markdown",
   "metadata": {},
   "source": [
    "### Space Seperated data"
   ]
  },
  {
   "cell_type": "code",
   "execution_count": 1,
   "metadata": {},
   "outputs": [
    {
     "name": "stdout",
     "output_type": "stream",
     "text": [
      "[[6 9 2]\n",
      " [3 5 8]\n",
      " [1 5 4]]\n",
      "int32\n"
     ]
    }
   ],
   "source": [
    "\"\"\"\n",
    "  Problem Statement:\n",
    "    You are given a 9 space separated numbers. \n",
    "    Write a python code to convert it into a 3x3 NumPy array of integers.\n",
    "  Input:\n",
    "    6 9 2 3 5 8 1 5 4\n",
    "  Output:\n",
    "      [[6 9 2]\n",
    "      [3 5 8]\n",
    "      [1 5 4]]\n",
    "\"\"\"\n",
    "import numpy as np\n",
    "lis= [6, 9, 2, 3, 5, 8 ,1, 5, 4]\n",
    "\n",
    "x= np.array(lis).reshape(3,3)\n",
    "print(x)\n",
    "print(x.dtype)\n"
   ]
  },
  {
   "cell_type": "markdown",
   "metadata": {},
   "source": [
    "### E-commerce Data Exploration"
   ]
  },
  {
   "cell_type": "code",
   "execution_count": 3,
   "metadata": {},
   "outputs": [
    {
     "name": "stdout",
     "output_type": "stream",
     "text": [
      "[134.23797013  94.45108367 117.04164106 ... 105.97093365 100.89797091\n",
      " 109.45766266]\n"
     ]
    },
    {
     "data": {
      "image/png": "[encoded data removed]",
      "text/plain": [
       "<Figure size 432x288 with 1 Axes>"
      ]
     },
     "metadata": {
      "needs_background": "light"
     },
     "output_type": "display_data"
    }
   ],
   "source": [
    "\"\"\"\n",
    "  Problem Statement:\n",
    "   To create an array of random e-commerce data of total amount spent per transaction. \n",
    "   Segment this incomes data into 50 buckets (number of bars) and plot it as a histogram.\n",
    "   Find the mean and median of this data using NumPy package.\n",
    "   Add outliers \n",
    "\n",
    "  Hint:\n",
    "    Execute the code snippet below.\n",
    "    import numpy as np\n",
    "    import matplotlib.pyplot as plt\n",
    "    incomes = np.random.normal(100.0, 20.0, 10000)\n",
    "    print (incomes)\n",
    " \n",
    "   outlier is an observation that lies an abnormal distance from other values \n",
    "   in a random sample from a population) to it to see their effect.    \n",
    "\"\"\"\n",
    "import numpy as np\n",
    "import matplotlib.pyplot as plt\n",
    "\n",
    "## randomly generated, normal distributed data\n",
    "incomes = np.random.normal(100.0, 20.0, 10000)\n",
    "print (incomes)\n",
    "\n",
    "plt.hist(incomes, 50)\n",
    "plt.show()\n"
   ]
  },
  {
   "cell_type": "code",
   "execution_count": 4,
   "metadata": {},
   "outputs": [
    {
     "name": "stdout",
     "output_type": "stream",
     "text": [
      "Mean value is:  100.13810894678419\n",
      "Median value is:  100.02720406185188\n",
      "Standard Deviation is:  20.177270567163294\n",
      "Correlation coefficient value is:  1.0\n"
     ]
    }
   ],
   "source": [
    "print(\"Mean value is: \", np.mean(incomes))\n",
    "print(\"Median value is: \", np.median(incomes))\n",
    "print(\"Standard Deviation is: \", np.std(incomes))\n",
    "print(\"Correlation coefficient value is: \", np.corrcoef(incomes))\n"
   ]
  },
  {
   "cell_type": "code",
   "execution_count": 6,
   "metadata": {
    "scrolled": true
   },
   "outputs": [
    {
     "data": {
      "image/png": "[encoded data removed]",
      "text/plain": [
       "<Figure size 432x288 with 1 Axes>"
      ]
     },
     "metadata": {
      "needs_background": "light"
     },
     "output_type": "display_data"
    }
   ],
   "source": [
    "#import seaborn as sns\n",
    "#sns.boxplot(x=incomes)\n",
    "\n",
    "plt.boxplot(incomes)\n",
    "plt.show()"
   ]
  },
  {
   "cell_type": "code",
   "execution_count": 13,
   "metadata": {},
   "outputs": [
    {
     "name": "stdout",
     "output_type": "stream",
     "text": [
      "Q1: 86.4867145120661 \n",
      "Q2: 113.62403727079523 \n",
      "IQR: 27.137322758729127\n",
      "\n",
      "lower_bound: 45.78073037397241 \n",
      "upper_bound: 154.3300214088889\n"
     ]
    },
    {
     "data": {
      "text/plain": [
       "(10000,)"
      ]
     },
     "execution_count": 13,
     "metadata": {},
     "output_type": "execute_result"
    }
   ],
   "source": [
    "# finding outliers\n",
    "\n",
    "sorted(incomes)\n",
    "q1, q3= np.percentile(incomes, [25,75])\n",
    "IQR = q3 - q1\n",
    "\n",
    "print('Q1: {} \\nQ2: {} \\nIQR: {}\\n'.format(q1, q3, IQR) )\n",
    "\n",
    "lower_bound = q1 -(1.5 * IQR) \n",
    "upper_bound = q3 +(1.5 * IQR) \n",
    "\n",
    "print('lower_bound: {} \\nupper_bound: {}'.format(lower_bound, upper_bound))\n",
    "incomes.shape\n"
   ]
  },
  {
   "cell_type": "code",
   "execution_count": 25,
   "metadata": {},
   "outputs": [
    {
     "name": "stdout",
     "output_type": "stream",
     "text": [
      "Outliers: \n",
      " [176.15559341 162.91021906  32.64151117  44.72015548 155.6941644\n",
      "  42.46843037  38.47294748 163.27907082  43.92478189 156.26973545\n",
      " 156.33617717 164.20078499  40.14751391  43.44817371 163.33804382\n",
      "  36.65691506  29.96429875  41.20824251 160.81928139 167.51426118\n",
      "  40.51710261  44.6453476  155.47006463  43.39042582 162.91063068\n",
      "  37.38199999  44.29268358  44.793804    40.21824823 158.79655271\n",
      " 157.38187255  40.10627036 158.35304507  35.93405523 155.12524482\n",
      " 167.77523376  41.04298473 155.31656661 156.37482621  40.5266867\n",
      "  40.61876922  39.53453394  45.37708697 158.49482551 159.26490684\n",
      "  36.60715355 165.39651358 161.06217403  29.65881072 155.35426259\n",
      " 157.85454632  30.25300486  34.65030881 154.90826419 160.52582696\n",
      "  42.1035222   35.43516518 155.06000704  37.75502062 156.31031826\n",
      "  38.8788453   35.61216773  44.23284346 159.87345512 160.60698134\n",
      " 157.73899339  36.59900713 158.26315747  43.79833351 155.29216274\n",
      " 160.53761566  45.36529898 154.62361458  40.54538971 155.46521077\n",
      "  44.22701786  39.69552222  43.00684547 157.95400993  43.9662576 ]\n",
      "\n",
      "No. of outliers: 80\n",
      "After removing dataset shape: (9920,)\n"
     ]
    }
   ],
   "source": [
    "# outlier datapoints (boolean indexing)\n",
    "outliers= incomes[ ( (incomes < lower_bound) |(incomes > upper_bound) )] \n",
    "\n",
    "print('Outliers: \\n',outliers)\n",
    "print('\\nNo. of outliers:',np.count_nonzero(outliers) )  ## no. of outliers\n",
    "\n",
    "## dataset after removing outliers\n",
    "incomes_out = incomes[ ~( (incomes < lower_bound) |(incomes > upper_bound) )]  \n",
    "print('After removing dataset shape:',incomes_out.shape )\n"
   ]
  },
  {
   "cell_type": "code",
   "execution_count": null,
   "metadata": {},
   "outputs": [],
   "source": []
  }
 ],
 "metadata": {
  "kernelspec": {
   "display_name": "Python 3",
   "language": "python",
   "name": "python3"
  },
  "language_info": {
   "codemirror_mode": {
    "name": "ipython",
    "version": 3
   },
   "file_extension": ".py",
   "mimetype": "text/x-python",
   "name": "python",
   "nbconvert_exporter": "python",
   "pygments_lexer": "ipython3",
   "version": "3.7.4"
  }
 },
 "nbformat": 4,
 "nbformat_minor": 2
}
