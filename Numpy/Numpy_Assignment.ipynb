{
 "cells": [
  {
   "cell_type": "markdown",
   "metadata": {},
   "source": [
    "### Space Seperated data"
   ]
  },
  {
   "cell_type": "code",
   "execution_count": 1,
   "metadata": {},
   "outputs": [
    {
     "name": "stdout",
     "output_type": "stream",
     "text": [
      "[[6 9 2]\n",
      " [3 5 8]\n",
      " [1 5 4]]\n",
      "int32\n"
     ]
    }
   ],
   "source": [
    "\"\"\"\n",
    "  Problem Statement:\n",
    "    You are given a 9 space separated numbers. \n",
    "    Write a python code to convert it into a 3x3 NumPy array of integers.\n",
    "  Input:\n",
    "    6 9 2 3 5 8 1 5 4\n",
    "  Output:\n",
    "      [[6 9 2]\n",
    "      [3 5 8]\n",
    "      [1 5 4]]\n",
    "\"\"\"\n",
    "import numpy as np\n",
    "lis= [6, 9, 2, 3, 5, 8 ,1, 5, 4]\n",
    "\n",
    "x= np.array(lis).reshape(3,3)\n",
    "print(x)\n",
    "print(x.dtype)\n"
   ]
  },
  {
   "cell_type": "code",
   "execution_count": null,
   "metadata": {},
   "outputs": [],
   "source": []
  }
 ],
 "metadata": {
  "kernelspec": {
   "display_name": "Python 3",
   "language": "python",
   "name": "python3"
  },
  "language_info": {
   "codemirror_mode": {
    "name": "ipython",
    "version": 3
   },
   "file_extension": ".py",
   "mimetype": "text/x-python",
   "name": "python",
   "nbconvert_exporter": "python",
   "pygments_lexer": "ipython3",
   "version": "3.7.4"
  }
 },
 "nbformat": 4,
 "nbformat_minor": 2
}
