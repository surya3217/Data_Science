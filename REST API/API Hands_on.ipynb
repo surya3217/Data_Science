{
 "cells": [
  {
   "cell_type": "markdown",
   "metadata": {},
   "source": [
    "### Weather of city"
   ]
  },
  {
   "cell_type": "code",
   "execution_count": 1,
   "metadata": {},
   "outputs": [
    {
     "name": "stdout",
     "output_type": "stream",
     "text": [
      "Enter city name: Jaipur\n",
      "http://api.openweathermap.org/data/2.5/weather?q=Jaipur&appid=e9185b28e9969fb7a300801eb026de9c\n",
      "Current temperature: 24.0 °C\n",
      "Longitude: 75.82\n",
      "Latitude: 26.92\n",
      "Weather Condition: Haze\n",
      "Wind Speed: 1\n",
      "Sunrise(EPOCH Time): 1583198326\n",
      "Sunset(EPOCH Time): 1583240329\n",
      "Sunrise: Tue Mar  3 06:48:46 2020\n",
      "Sunset: Tue Mar  3 18:28:49 2020\n",
      "\n",
      "<class 'bytes'>\n",
      "Status code: 200\n",
      "Headers : {'Server': 'openresty', 'Date': 'Tue, 03 Mar 2020 17:52:16 GMT', 'Content-Type': 'application/json; charset=utf-8', 'Content-Length': '445', 'Connection': 'keep-alive', 'X-Cache-Key': '/data/2.5/weather?q=jaipur', 'Access-Control-Allow-Origin': '*', 'Access-Control-Allow-Credentials': 'true', 'Access-Control-Allow-Methods': 'GET, POST'}\n",
      "\n",
      "Data : {\"coord\":{\"lon\":75.82,\"lat\":26.92},\"weather\":[{\"id\":721,\"main\":\"Haze\",\"description\":\"haze\",\"icon\":\"50n\"}],\"base\":\"stations\",\"main\":{\"temp\":297.15,\"feels_like\":297.36,\"temp_min\":297.15,\"temp_max\":297.15,\"pressure\":1011,\"humidity\":50},\"visibility\":3000,\"wind\":{\"speed\":1},\"clouds\":{\"all\":40},\"dt\":1583257721,\"sys\":{\"type\":1,\"id\":9170,\"country\":\"IN\",\"sunrise\":1583198326,\"sunset\":1583240329},\"timezone\":19800,\"id\":1269515,\"name\":\"Jaipur\",\"cod\":200}\n",
      "Server : openresty \n",
      "\n",
      "Date : Tue, 03 Mar 2020 17:52:16 GMT \n",
      "\n",
      "Content-Type : application/json; charset=utf-8 \n",
      "\n",
      "Content-Length : 445 \n",
      "\n",
      "Connection : keep-alive \n",
      "\n",
      "X-Cache-Key : /data/2.5/weather?q=jaipur \n",
      "\n",
      "Access-Control-Allow-Origin : * \n",
      "\n",
      "Access-Control-Allow-Credentials : true \n",
      "\n",
      "Access-Control-Allow-Methods : GET, POST \n",
      "\n",
      "Content type: application/json; charset=utf-8\n",
      "Content or Response Body : b'{\"coord\":{\"lon\":75.82,\"lat\":26.92},\"weather\":[{\"id\":721,\"main\":\"Haze\",\"description\":\"haze\",\"icon\":\"50n\"}],\"base\":\"stations\",\"main\":{\"temp\":297.15,\"feels_like\":297.36,\"temp_min\":297.15,\"temp_max\":297.15,\"pressure\":1011,\"humidity\":50},\"visibility\":3000,\"wind\":{\"speed\":1},\"clouds\":{\"all\":40},\"dt\":1583257721,\"sys\":{\"type\":1,\"id\":9170,\"country\":\"IN\",\"sunrise\":1583198326,\"sunset\":1583240329},\"timezone\":19800,\"id\":1269515,\"name\":\"Jaipur\",\"cod\":200}'\n"
     ]
    }
   ],
   "source": [
    "\"\"\"\n",
    "  Problem Statement:\n",
    "    Get me the other details about the city\n",
    "        Latitude and Longitude\n",
    "        Weather Condition\n",
    "        Wind Speed\n",
    "        Sunset Rise and Set timing in human readable format\n",
    "\"\"\"\n",
    "\n",
    "import requests\n",
    "import time\n",
    "\n",
    "city = input(\"Enter city name: \")\n",
    "\n",
    "url1 = \"http://api.openweathermap.org/data/2.5/weather\"\n",
    "url2 = \"?q=\"+city\n",
    "url3 = \"&appid=e9185b28e9969fb7a300801eb026de9c\"\n",
    "\n",
    "url = url1 + url2 + url3\n",
    "print (url)     # creating the final url(API) to find\n",
    "\n",
    "# response becoming a class and have its own methods to call, use dir(response)\n",
    "response = requests.get(url)    # get: requesting to get the data from url(API)\n",
    "\n",
    "\n",
    "#'''Or'''\n",
    "#payload = {\"q\":\"Jaipur\", \"appid\":\"e9185b28e9969fb7a300801eb026de9c\"}\n",
    "#response = requests.get(url1,params=payload)\n",
    "\n",
    "jsondata = response.json()\n",
    "# response has the original JSON String\n",
    "# jsondata has the convert string in the python data type dictionary\n",
    "\n",
    "print('Current temperature:',jsondata['main']['temp']-273.15,'\\u00b0C')\n",
    "print('Longitude:',jsondata['coord']['lon'] )\n",
    "print('Latitude:',jsondata['coord']['lat'] )\n",
    "print('Weather Condition:',jsondata['weather'][0]['main'] )\n",
    "print('Wind Speed:',jsondata['wind']['speed'] )\n",
    "\n",
    "# Converting EPOCH time to HUMAN readable time\n",
    "# The Unix epoch is the time 00:00:00 on 1 January 1970.\n",
    "\n",
    "print('Sunrise(EPOCH Time):',jsondata[\"sys\"][\"sunrise\"])\n",
    "print('Sunset(EPOCH Time):',jsondata[\"sys\"][\"sunset\"])\n",
    "\n",
    "print('Sunrise:',time.ctime(jsondata[\"sys\"][\"sunrise\"]) )\n",
    "print('Sunset:',time.ctime(jsondata[\"sys\"][\"sunset\"]) )\n",
    "print()\n",
    "\n",
    "\n",
    "'''related function'''\n",
    "\n",
    "# Content in binary form\n",
    "print (type(response.content)) # type: byte\n",
    "response.content\n",
    "\n",
    "\n",
    "# Extra Explanation of the Response \n",
    "print (\"Status code: \" + str(response.status_code)) # give code: 200, means all ok\n",
    "print (\"Headers : \" + str(response.headers))  # give server side info, server name, date,methods etc\n",
    "print()\n",
    "print (\"Data : \" + response.text)  # json file\n",
    "\n",
    "# Reading the Headers\n",
    "for key, value in response.headers.items():\n",
    "    print (key, \":\" ,value , \"\\n\")\n",
    "\n",
    "print (\"Content type: \" + response.headers['content-type'])\n",
    "print (\"Content or Response Body : \" + str(response.content))\n"
   ]
  },
  {
   "cell_type": "markdown",
   "metadata": {},
   "source": [
    "### Currency Converter from USD to INR"
   ]
  },
  {
   "cell_type": "code",
   "execution_count": 2,
   "metadata": {},
   "outputs": [
    {
     "name": "stdout",
     "output_type": "stream",
     "text": [
      "Enter USD to convert into rupees: 50\n",
      "Indian Rupees: 3647.9946499999996\n",
      "Request is successful.\n"
     ]
    }
   ],
   "source": [
    "\"\"\"\n",
    "  Problem Statement:\n",
    "    You need to fetch the current conversion prices from the JSON  \n",
    "    using REST API\n",
    "  Hint:\n",
    "    http://free.currencyconverterapi.com/api/v5/convert?q=USD_INR&compact=ultra&apiKey=07ca862e0b339dd56245\n",
    "    or\n",
    "    Check with http://api.fixer.io/latest?base=USD&symbol=EUR\n",
    "\"\"\"\n",
    "\n",
    "import requests\n",
    "\n",
    "## taking input from user\n",
    "usd= int(input('Enter USD to convert into rupees: '))  \n",
    "url= 'http://free.currencyconverterapi.com/api/v5/convert?q=USD_INR&compact=ultra&apiKey=07ca862e0b339dd56245'\n",
    "\n",
    "response= requests.get(url)  ## prividing url using api\n",
    "data= response.json()    ## converting response to json\n",
    "\n",
    "if response:\n",
    "    inr= data['USD_INR']*usd      ## converting USD to INR\n",
    "    print('Indian Rupees:',inr)\n",
    "    print('Request is successful.')\n",
    "else:\n",
    "    print('Request returned {} error.'.format(response.status_code))\n",
    "\n",
    "# input: 50\n",
    "# output: Indian Rupees: 3647.9946499999996\n"
   ]
  },
  {
   "cell_type": "markdown",
   "metadata": {},
   "source": [
    "### Download the image from the url"
   ]
  },
  {
   "cell_type": "code",
   "execution_count": 3,
   "metadata": {},
   "outputs": [
    {
     "name": "stdout",
     "output_type": "stream",
     "text": [
      "Request is successful.\n",
      "Image has successfully downloaded.\n"
     ]
    }
   ],
   "source": [
    "\"\"\"\n",
    "Code Challenge:\n",
    "http://forsk.in/images/Forsk_logo_bw.png\"\n",
    "\n",
    "Download the image from the url above and store in your working diretory with the same\n",
    "name as the image name.\n",
    "Do not hardcode the name of the image\n",
    "\"\"\"\n",
    "\n",
    "import requests\n",
    "url= 'http://forsk.in/images/about_extra.jpg'  \n",
    "response= requests.get(url)     ## getting the response of url\n",
    "\n",
    "with open('about_extra.jpg','wb') as f:  ## giving path of file, open it in binary write mode\n",
    "    f.write(response.content)    # writing the response in file\n",
    "    \n",
    "if response:\n",
    "    print('Request is successful.\\nImage has successfully downloaded.')\n",
    "else:\n",
    "    print('Request returned {} error.'.format(response.status_code))\n"
   ]
  },
  {
   "cell_type": "code",
   "execution_count": 4,
   "metadata": {},
   "outputs": [
    {
     "name": "stdout",
     "output_type": "stream",
     "text": [
      "Request is successful.\n",
      "Image has successfully downloaded.\n"
     ]
    }
   ],
   "source": [
    "\"\"\"\n",
    "Code Challenge:\n",
    "Download the image from the URL and store in a file\n",
    "\n",
    "https://imgs.xkcd.com/comics/python.png\n",
    "\"\"\"\n",
    "\n",
    "import requests\n",
    "url= 'https://imgs.xkcd.com/comics/python.png'\n",
    "response= requests.get(url)       ## getting the response of url \n",
    "\n",
    "with open('python.png','wb') as f:   ## giving path of file, open it in binary write mode\n",
    "    f.write(response.content)    # writing the response in file\n",
    "    \n",
    "if response:\n",
    "    print('Request is successful.\\nImage has successfully downloaded.')\n",
    "else:\n",
    "    print('Request returned {} error.'.format(response.status_code))\n"
   ]
  },
  {
   "cell_type": "code",
   "execution_count": null,
   "metadata": {},
   "outputs": [],
   "source": []
  },
  {
   "cell_type": "code",
   "execution_count": 6,
   "metadata": {},
   "outputs": [
    {
     "name": "stdout",
     "output_type": "stream",
     "text": [
      "Enter \"space\" separated Route and Stop number: 22 14787\n"
     ]
    }
   ],
   "source": [
    "\"\"\"\n",
    "  Problem Statement:\n",
    "    Write a Python code to find when will the next bus come\n",
    "    Try to make the program generalised so that is in not hard wired for bus route 22 and stop id 14787\n",
    "    Also try if you can take the arguments from the command line\n",
    "    Also try if you can run the program as a script from comand line\n",
    "    \n",
    "  Sample:\n",
    "      Route 22 and Stop 14787\n",
    "      Route 0 and Stop 5037\n",
    "  Hint: \n",
    "    http://ctabustracker.com/bustime/map/getStopPredictions.jsp?route=22&stop=14787 \n",
    "\"\"\"\n",
    "#input: 22 14787\n",
    "\n",
    "import requests\n",
    "from bs4 import BeautifulSoup  \n",
    "\n",
    "route, stop= input('Enter \"space\" separated Route and Stop number: ').split()\n",
    "\n",
    "url= 'http://ctabustracker.com/bustime/map/getStopPredictions.jsp'\n",
    "#'http://ctabustracker.com/bustime/map/getStopPredictions.jsp?route=22&stop=14787'\n",
    "\n",
    "response= requests.get(url,{'route':str(route), 'stop':str(stop)})   ## gives xml file in byte format\n",
    "                                                                    ## response have header and data\n",
    "respo= response.text     ## gives byte format file into string\n",
    "# print(respo)\n",
    "\n",
    "soup = BeautifulSoup(respo,\"lxml\")   ## Beautiful Soup gives us a Soup object, \n",
    "                                     ## which represents the document as a nested data structure(DOM)\n",
    "                                     ## \"lxml\" html or xml parser\n",
    "# print(soup)"
   ]
  },
  {
   "cell_type": "code",
   "execution_count": 7,
   "metadata": {},
   "outputs": [
    {
     "name": "stdout",
     "output_type": "stream",
     "text": [
      "<?xml version=\"1.0\" encoding=\"UTF-8\"?>\n",
      "<html>\n",
      " <body>\n",
      "  <stop>\n",
      "   <id>\n",
      "    14787\n",
      "   </id>\n",
      "   <rtpifeedname>\n",
      "   </rtpifeedname>\n",
      "   <nm>\n",
      "    Clark &amp; Balmoral\n",
      "   </nm>\n",
      "   <sri>\n",
      "    <rt>\n",
      "     22\n",
      "    </rt>\n",
      "    <rtrtpifeedname>\n",
      "    </rtrtpifeedname>\n",
      "    <rd>\n",
      "     22\n",
      "    </rd>\n",
      "    <d>\n",
      "     Southbound\n",
      "    </d>\n",
      "    <dd>\n",
      "     Southbound\n",
      "    </dd>\n",
      "    <drtpifeedname>\n",
      "    </drtpifeedname>\n",
      "   </sri>\n",
      "   <sbs>\n",
      "   </sbs>\n",
      "   <cr>\n",
      "    22\n",
      "   </cr>\n",
      "   <crrtpifeedname>\n",
      "   </crrtpifeedname>\n",
      "   <pre>\r\n",
      "\r\n",
      "\t\t<pt>5 MIN</pt>\r\n",
      "\r\n",
      "\t\t<fd>Harrison</fd>\r\n",
      "\r\n",
      "\t\t<v>1791</v>\r\n",
      "\t\t<scheduled>false</scheduled>\t\t\r\n",
      "\r\n",
      "\t\t<rn>22</rn> \r\n",
      "\t\t<rd>22</rd> \t\t\r\n",
      "\r\n",
      "\t\t\r\n",
      "\t\t<m>1</m>\t\r\n",
      "\t\t<consist></consist>    \r\n",
      "\t\t<cars></cars> \r\n",
      "\t\t    \t\r\n",
      "\t</pre>\n",
      "   <pre>\r\n",
      "\r\n",
      "\t\t<pt>11 MIN</pt>\r\n",
      "\r\n",
      "\t\t<fd>Harrison</fd>\r\n",
      "\r\n",
      "\t\t<v>1907</v>\r\n",
      "\t\t<scheduled>false</scheduled>\t\t\r\n",
      "\r\n",
      "\t\t<rn>22</rn> \r\n",
      "\t\t<rd>22</rd> \t\t\r\n",
      "\r\n",
      "\t\t\r\n",
      "\t\t<m>1</m>\t\r\n",
      "\t\t<consist></consist>    \r\n",
      "\t\t<cars></cars> \r\n",
      "\t\t    \t\r\n",
      "\t</pre>\n",
      "   <pre>\r\n",
      "\r\n",
      "\t\t<pt>21 MIN</pt>\r\n",
      "\r\n",
      "\t\t<fd>Harrison</fd>\r\n",
      "\r\n",
      "\t\t<v>1885</v>\r\n",
      "\t\t<scheduled>false</scheduled>\t\t\r\n",
      "\r\n",
      "\t\t<rn>22</rn> \r\n",
      "\t\t<rd>22</rd> \t\t\r\n",
      "\r\n",
      "\t\t\r\n",
      "\t\t<m>1</m>\t\r\n",
      "\t\t<consist></consist>    \r\n",
      "\t\t<cars></cars> \r\n",
      "\t\t    \t\r\n",
      "\t</pre>\n",
      "  </stop>\n",
      " </body>\n",
      "</html>\n"
     ]
    }
   ],
   "source": [
    "print (soup.prettify())   ## give string format of xml with nested data structure\n",
    "#print (soup.body)      ## now we can access xml file tags like <html>, <body> etc.\n"
   ]
  },
  {
   "cell_type": "code",
   "execution_count": 8,
   "metadata": {},
   "outputs": [
    {
     "name": "stdout",
     "output_type": "stream",
     "text": [
      "There is 3 buses on this route.\n",
      "List of arrival time of bus is:\n",
      " ['5 MIN', '11 MIN', '21 MIN']\n"
     ]
    }
   ],
   "source": [
    "abc= soup.find_all('pt')   ## find all occurance of 'pt' tag\n",
    "\n",
    "lis= []\n",
    "for eta in abc:\n",
    "    lis.append(eta.text)\n",
    "\n",
    "print('There is {} buses on this route.'.format(len(lis)))\n",
    "print('List of arrival time of bus is:\\n',lis)\n"
   ]
  },
  {
   "cell_type": "code",
   "execution_count": null,
   "metadata": {},
   "outputs": [],
   "source": []
  }
 ],
 "metadata": {
  "kernelspec": {
   "display_name": "Python 3",
   "language": "python",
   "name": "python3"
  },
  "language_info": {
   "codemirror_mode": {
    "name": "ipython",
    "version": 3
   },
   "file_extension": ".py",
   "mimetype": "text/x-python",
   "name": "python",
   "nbconvert_exporter": "python",
   "pygments_lexer": "ipython3",
   "version": "3.7.4"
  }
 },
 "nbformat": 4,
 "nbformat_minor": 2
}
